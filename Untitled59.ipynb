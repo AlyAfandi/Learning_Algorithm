{
  "nbformat": 4,
  "nbformat_minor": 0,
  "metadata": {
    "colab": {
      "provenance": []
    },
    "kernelspec": {
      "name": "python3",
      "display_name": "Python 3"
    },
    "language_info": {
      "name": "python"
    }
  },
  "cells": [
    {
      "cell_type": "code",
      "execution_count": 6,
      "metadata": {
        "colab": {
          "base_uri": "https://localhost:8080/"
        },
        "id": "EovRhmBAnzKV",
        "outputId": "19b2bf54-24cf-4341-bb49-d1976675a180"
      },
      "outputs": [
        {
          "output_type": "stream",
          "name": "stdout",
          "text": [
            "Hitung  0\n",
            "Hitung  1\n",
            "Hitung  2\n",
            "Hitung  3\n",
            "Hitung  4\n",
            "Hitung  5\n",
            "Hitung  6\n",
            "Hitung  7\n",
            "Hitung  8\n",
            "selesai\n"
          ]
        }
      ],
      "source": [
        "count = 0\n",
        "while (count < 9): # argument disini tidak lagi terpenuhi\n",
        "  print(\"Hitung \", count)\n",
        "  count +=1\n",
        "\n",
        "print(\"selesai\")\n",
        "nilai = 85"
      ]
    },
    {
      "cell_type": "code",
      "source": [
        "angka = [1,2,3,4]\n",
        "for x in angka:\n",
        "  print"
      ],
      "metadata": {
        "colab": {
          "base_uri": "https://localhost:8080/"
        },
        "id": "mbtAHDzRpfp5",
        "outputId": "a550147d-a815-47e1-f49a-866febcb98a2"
      },
      "execution_count": 2,
      "outputs": [
        {
          "output_type": "stream",
          "name": "stdout",
          "text": [
            "1\n",
            "2\n",
            "3\n",
            "4\n"
          ]
        }
      ]
    },
    {
      "cell_type": "code",
      "source": [
        "\n",
        "nilai = 81\n",
        "\n",
        "if (nilai >= 80):\n",
        "  print (\"Nilai anda A\")\n",
        "if (75 < nilai < 80):\n",
        "  print (\"Nilai anda AB\")\n"
      ],
      "metadata": {
        "colab": {
          "base_uri": "https://localhost:8080/"
        },
        "id": "9ccneKaJqOy_",
        "outputId": "6a3053c3-2cd2-432b-805b-e5f8a2432eaf"
      },
      "execution_count": 10,
      "outputs": [
        {
          "output_type": "stream",
          "name": "stdout",
          "text": [
            "Nilai anda A\n"
          ]
        }
      ]
    },
    {
      "cell_type": "code",
      "source": [
        "# Program konversi uang\n",
        "# nilai pecahan uang ada 100, 200, 500, 1000\n",
        "# tujuannya untuk memecah uang\n",
        "# algoritma yang dipakai adalah dipecah menggunakan uang dengan pecahan yang lebih tinggi\n",
        "\n",
        "x = int(input())\n",
        "\n",
        "pecahan_1 = 1000\n",
        "pecahan_2 = 500\n",
        "pecahan_3 = 200\n",
        "pecahan_4 = 100\n",
        "\n",
        "# pecahan 1000\n",
        "if (int (x % pecahan_1) == 0):\n",
        "  a = int(x / pecahan_1)\n",
        "  print(\"uang dikonversi menjadi uang 1000 sebanyak\" , a)\n",
        "\n",
        "# pecahan 1000 dan 500\n",
        "if (int (x % pecahan_1) != 0):\n",
        "  a = int(x / pecahan_1)\n",
        "  if(int (x % pecahan_2) == 0):\n",
        "    sisa = x - (a*pecahan_1)\n",
        "    b = int(sisa / pecahan_2)\n",
        "    print(\"uang dikonversi menjadi uang 1000 sebanyak\" , a)\n",
        "    print(\"uang dikonversi menjadi uang 500 sebanyak\" , b)\n",
        "\n",
        "# pecahan 1000, 500, dan 200\n",
        "if (int (x % pecahan_1) != 0):\n",
        "  a = int(x / pecahan_1)\n",
        "  # print(a)\n",
        "  if(int (x % pecahan_2) != 0):\n",
        "    sisa = x - (a*pecahan_1)\n",
        "    b = int(sisa / pecahan_2)\n",
        "    sisa2 = sisa - (b*pecahan_2)\n",
        "    # print(b)\n",
        "    if (int (sisa2 % pecahan_3 == 0)):\n",
        "      c = int(sisa2 / pecahan_3)\n",
        "      print(\"uang dikonversi menjadi uang 1000 sebanyak\" , a)\n",
        "      print(\"uang dikonversi menjadi uang 500 sebanyak\" , b)\n",
        "      print(\"uang dikonversi menjadi uang 200 sebanyak\" , c)\n"
      ],
      "metadata": {
        "colab": {
          "base_uri": "https://localhost:8080/"
        },
        "id": "elw-ncVcs4uO",
        "outputId": "848b2fa5-14b6-4fbd-c0d4-20064a9d810e"
      },
      "execution_count": 51,
      "outputs": [
        {
          "output_type": "stream",
          "name": "stdout",
          "text": [
            "6700\n",
            "uang dikonversi menjadi uang 1000 sebanyak 6\n",
            "uang dikonversi menjadi uang 500 sebanyak 1\n",
            "uang dikonversi menjadi uang 200 sebanyak 1\n"
          ]
        }
      ]
    },
    {
      "cell_type": "code",
      "source": [
        "10 / 3"
      ],
      "metadata": {
        "colab": {
          "base_uri": "https://localhost:8080/"
        },
        "id": "yoTJsvz2toyT",
        "outputId": "cc37766b-8c6f-4281-8955-d28e68f4b521"
      },
      "execution_count": 12,
      "outputs": [
        {
          "output_type": "execute_result",
          "data": {
            "text/plain": [
              "3.3333333333333335"
            ]
          },
          "metadata": {},
          "execution_count": 12
        }
      ]
    }
  ]
}